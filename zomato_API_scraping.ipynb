{
 "cells": [
  {
   "cell_type": "markdown",
   "metadata": {},
   "source": [
    "# Scraping Pune restaurants data from Zomato API"
   ]
  },
  {
   "cell_type": "code",
   "execution_count": 87,
   "metadata": {},
   "outputs": [],
   "source": [
    "import pandas as pd\n",
    "import numpy as np\n",
    "import requests\n",
    "import json\n",
    "import re\n",
    "import matplotlib.pyplot as plt\n",
    "import seaborn as sns\n",
    "%matplotlib inline\n",
    "\n",
    "from pandas.io.json import json_normalize\n",
    "from IPython.display import display\n",
    "import plotly.graph_objects as go"
   ]
  },
  {
   "cell_type": "markdown",
   "metadata": {},
   "source": [
    "- First one has to create an API key from the [Zomato developers page](https://developers.zomato.com/api) . Once you have the key, you can start using the Zomato API legally."
   ]
  },
  {
   "cell_type": "code",
   "execution_count": 2,
   "metadata": {},
   "outputs": [],
   "source": [
    "zomato_api_key = open(\"user_key\").read()\n",
    "\n",
    "base_url = 'https://developers.zomato.com/api/v2.1/'"
   ]
  },
  {
   "cell_type": "code",
   "execution_count": 3,
   "metadata": {},
   "outputs": [],
   "source": [
    "def get_json_text(url, params, header):\n",
    "    response = requests.get(url, params = params, headers=header)\n",
    "    if response.status_code == 200:\n",
    "        print('Status code: 200')\n",
    "        return response.text\n",
    "    else:\n",
    "        print('Error! status code: {}'.format(response.status_code))"
   ]
  },
  {
   "cell_type": "code",
   "execution_count": 48,
   "metadata": {},
   "outputs": [],
   "source": [
    "def resp_to_df(text, key, record_path = None, meta = None):\n",
    "    '''Convert a json string to pandas dataframe'''\n",
    "    js_str = json.loads(text) \n",
    "    df = json_normalize(js_str[key], record_path = record_path, meta = meta)\n",
    "    return df"
   ]
  },
  {
   "cell_type": "code",
   "execution_count": 5,
   "metadata": {},
   "outputs": [
    {
     "name": "stdout",
     "output_type": "stream",
     "text": [
      "Status code: 200\n"
     ]
    }
   ],
   "source": [
    "cuisine_api_url = base_url+'cuisines'\n",
    "params = {'city_id':'5'}\n",
    "header = {\"User-agent\": \"curl/7.43.0\", \"Accept\": \"application/json\", \"user_key\": zomato_api_key}\n",
    "response_cuisine = get_json_text(cuisine_api_url, params, header)"
   ]
  },
  {
   "cell_type": "code",
   "execution_count": 6,
   "metadata": {},
   "outputs": [
    {
     "data": {
      "text/html": [
       "<div>\n",
       "<style scoped>\n",
       "    .dataframe tbody tr th:only-of-type {\n",
       "        vertical-align: middle;\n",
       "    }\n",
       "\n",
       "    .dataframe tbody tr th {\n",
       "        vertical-align: top;\n",
       "    }\n",
       "\n",
       "    .dataframe thead th {\n",
       "        text-align: right;\n",
       "    }\n",
       "</style>\n",
       "<table border=\"1\" class=\"dataframe\">\n",
       "  <thead>\n",
       "    <tr style=\"text-align: right;\">\n",
       "      <th></th>\n",
       "      <th>cuisine.cuisine_id</th>\n",
       "      <th>cuisine.cuisine_name</th>\n",
       "    </tr>\n",
       "  </thead>\n",
       "  <tbody>\n",
       "    <tr>\n",
       "      <td>0</td>\n",
       "      <td>1035</td>\n",
       "      <td>Afghan</td>\n",
       "    </tr>\n",
       "    <tr>\n",
       "      <td>1</td>\n",
       "      <td>152</td>\n",
       "      <td>African</td>\n",
       "    </tr>\n",
       "    <tr>\n",
       "      <td>2</td>\n",
       "      <td>1</td>\n",
       "      <td>American</td>\n",
       "    </tr>\n",
       "    <tr>\n",
       "      <td>3</td>\n",
       "      <td>2</td>\n",
       "      <td>Andhra</td>\n",
       "    </tr>\n",
       "    <tr>\n",
       "      <td>4</td>\n",
       "      <td>4</td>\n",
       "      <td>Arabian</td>\n",
       "    </tr>\n",
       "    <tr>\n",
       "      <td>...</td>\n",
       "      <td>...</td>\n",
       "      <td>...</td>\n",
       "    </tr>\n",
       "    <tr>\n",
       "      <td>94</td>\n",
       "      <td>95</td>\n",
       "      <td>Thai</td>\n",
       "    </tr>\n",
       "    <tr>\n",
       "      <td>95</td>\n",
       "      <td>93</td>\n",
       "      <td>Tibetan</td>\n",
       "    </tr>\n",
       "    <tr>\n",
       "      <td>96</td>\n",
       "      <td>142</td>\n",
       "      <td>Turkish</td>\n",
       "    </tr>\n",
       "    <tr>\n",
       "      <td>97</td>\n",
       "      <td>99</td>\n",
       "      <td>Vietnamese</td>\n",
       "    </tr>\n",
       "    <tr>\n",
       "      <td>98</td>\n",
       "      <td>1024</td>\n",
       "      <td>Wraps</td>\n",
       "    </tr>\n",
       "  </tbody>\n",
       "</table>\n",
       "<p>99 rows × 2 columns</p>\n",
       "</div>"
      ],
      "text/plain": [
       "    cuisine.cuisine_id cuisine.cuisine_name\n",
       "0                 1035               Afghan\n",
       "1                  152              African\n",
       "2                    1             American\n",
       "3                    2               Andhra\n",
       "4                    4              Arabian\n",
       "..                 ...                  ...\n",
       "94                  95                 Thai\n",
       "95                  93              Tibetan\n",
       "96                 142              Turkish\n",
       "97                  99           Vietnamese\n",
       "98                1024                Wraps\n",
       "\n",
       "[99 rows x 2 columns]"
      ]
     },
     "execution_count": 6,
     "metadata": {},
     "output_type": "execute_result"
    }
   ],
   "source": [
    "pune_cuisines = resp_to_df(response_cuisine, 'cuisines')\n",
    "pune_cuisines"
   ]
  },
  {
   "cell_type": "markdown",
   "metadata": {},
   "source": [
    "#### What are the id's of my favourite cuisines? :)"
   ]
  },
  {
   "cell_type": "code",
   "execution_count": 7,
   "metadata": {},
   "outputs": [
    {
     "data": {
      "text/html": [
       "<div>\n",
       "<style scoped>\n",
       "    .dataframe tbody tr th:only-of-type {\n",
       "        vertical-align: middle;\n",
       "    }\n",
       "\n",
       "    .dataframe tbody tr th {\n",
       "        vertical-align: top;\n",
       "    }\n",
       "\n",
       "    .dataframe thead th {\n",
       "        text-align: right;\n",
       "    }\n",
       "</style>\n",
       "<table border=\"1\" class=\"dataframe\">\n",
       "  <thead>\n",
       "    <tr style=\"text-align: right;\">\n",
       "      <th></th>\n",
       "      <th>cuisine.cuisine_id</th>\n",
       "      <th>cuisine.cuisine_name</th>\n",
       "    </tr>\n",
       "  </thead>\n",
       "  <tbody>\n",
       "    <tr>\n",
       "      <td>11</td>\n",
       "      <td>10</td>\n",
       "      <td>Bengali</td>\n",
       "    </tr>\n",
       "    <tr>\n",
       "      <td>29</td>\n",
       "      <td>100</td>\n",
       "      <td>Desserts</td>\n",
       "    </tr>\n",
       "    <tr>\n",
       "      <td>47</td>\n",
       "      <td>55</td>\n",
       "      <td>Italian</td>\n",
       "    </tr>\n",
       "    <tr>\n",
       "      <td>72</td>\n",
       "      <td>50</td>\n",
       "      <td>North Indian</td>\n",
       "    </tr>\n",
       "  </tbody>\n",
       "</table>\n",
       "</div>"
      ],
      "text/plain": [
       "    cuisine.cuisine_id cuisine.cuisine_name\n",
       "11                  10              Bengali\n",
       "29                 100             Desserts\n",
       "47                  55              Italian\n",
       "72                  50         North Indian"
      ]
     },
     "execution_count": 7,
     "metadata": {},
     "output_type": "execute_result"
    }
   ],
   "source": [
    "pune_cuisines.loc[pune_cuisines['cuisine.cuisine_name'].isin(['Bengali', 'North Indian', 'Italian', 'Desserts']), :]"
   ]
  },
  {
   "cell_type": "code",
   "execution_count": 8,
   "metadata": {},
   "outputs": [
    {
     "name": "stdout",
     "output_type": "stream",
     "text": [
      "Status code: 200\n"
     ]
    }
   ],
   "source": [
    "search_api_url = base_url+'search'\n",
    "params = {'entity_id':'5', 'entity_type': 'city', 'order' : 'asc'}  #query parameters  'cuisines':1,2,3\n",
    "\n",
    "response_search = get_json_text(search_api_url, params, header)\n",
    "#pune_restaurants.columns = pune_restaurants.columns.str.replace(r'restaurant\\.(R.)?(location.)?(user_rating.)?(rating_obj.)?', '')\n",
    "#pune_restaurants.head()"
   ]
  },
  {
   "cell_type": "code",
   "execution_count": 167,
   "metadata": {},
   "outputs": [
    {
     "data": {
      "text/html": [
       "<div>\n",
       "<style scoped>\n",
       "    .dataframe tbody tr th:only-of-type {\n",
       "        vertical-align: middle;\n",
       "    }\n",
       "\n",
       "    .dataframe tbody tr th {\n",
       "        vertical-align: top;\n",
       "    }\n",
       "\n",
       "    .dataframe thead th {\n",
       "        text-align: right;\n",
       "    }\n",
       "</style>\n",
       "<table border=\"1\" class=\"dataframe\">\n",
       "  <thead>\n",
       "    <tr style=\"text-align: right;\">\n",
       "      <th></th>\n",
       "      <th>restaurant.R.has_menu_status.delivery</th>\n",
       "      <th>restaurant.R.has_menu_status.takeaway</th>\n",
       "      <th>restaurant.R.res_id</th>\n",
       "      <th>restaurant.apikey</th>\n",
       "      <th>restaurant.id</th>\n",
       "      <th>restaurant.name</th>\n",
       "      <th>restaurant.url</th>\n",
       "      <th>restaurant.location.address</th>\n",
       "      <th>restaurant.location.locality</th>\n",
       "      <th>restaurant.location.city</th>\n",
       "      <th>...</th>\n",
       "      <th>restaurant.has_table_booking</th>\n",
       "      <th>restaurant.events_url</th>\n",
       "      <th>restaurant.phone_numbers</th>\n",
       "      <th>restaurant.all_reviews.reviews</th>\n",
       "      <th>restaurant.establishment</th>\n",
       "      <th>restaurant.establishment_types</th>\n",
       "      <th>restaurant.medio_provider</th>\n",
       "      <th>restaurant.book_url</th>\n",
       "      <th>restaurant.order_url</th>\n",
       "      <th>restaurant.order_deeplink</th>\n",
       "    </tr>\n",
       "  </thead>\n",
       "  <tbody>\n",
       "    <tr>\n",
       "      <td>0</td>\n",
       "      <td>-1</td>\n",
       "      <td>-1</td>\n",
       "      <td>18893197</td>\n",
       "      <td>16793d99389b264237a278059b8f4c4e</td>\n",
       "      <td>18893197</td>\n",
       "      <td>FC Road Social</td>\n",
       "      <td>https://www.zomato.com/pune/fc-road-social-shi...</td>\n",
       "      <td>CTS 1183, Unit 101, 1st Floor &amp; Mezzanine Floo...</td>\n",
       "      <td>Shivaji Nagar</td>\n",
       "      <td>Pune</td>\n",
       "      <td>...</td>\n",
       "      <td>0</td>\n",
       "      <td>https://www.zomato.com/pune/fc-road-social-shi...</td>\n",
       "      <td>+91 9172378889, 020 29805112</td>\n",
       "      <td>[{'review': {'rating': 2, 'review_text': 'Visi...</td>\n",
       "      <td>[Bar]</td>\n",
       "      <td>[]</td>\n",
       "      <td>NaN</td>\n",
       "      <td>NaN</td>\n",
       "      <td>NaN</td>\n",
       "      <td>NaN</td>\n",
       "    </tr>\n",
       "    <tr>\n",
       "      <td>1</td>\n",
       "      <td>-1</td>\n",
       "      <td>-1</td>\n",
       "      <td>19034129</td>\n",
       "      <td>16793d99389b264237a278059b8f4c4e</td>\n",
       "      <td>19034129</td>\n",
       "      <td>Huber &amp; Holly</td>\n",
       "      <td>https://www.zomato.com/pune/huber-holly-korega...</td>\n",
       "      <td>Shop 2, Ground Floor, Ganga Commerce Apartment...</td>\n",
       "      <td>Koregaon Park</td>\n",
       "      <td>Pune</td>\n",
       "      <td>...</td>\n",
       "      <td>0</td>\n",
       "      <td>https://www.zomato.com/pune/huber-holly-korega...</td>\n",
       "      <td>080 46971586</td>\n",
       "      <td>[{'review': {'rating': 5, 'review_text': 'Pune...</td>\n",
       "      <td>[Dessert Parlour]</td>\n",
       "      <td>[]</td>\n",
       "      <td>NaN</td>\n",
       "      <td>NaN</td>\n",
       "      <td>NaN</td>\n",
       "      <td>NaN</td>\n",
       "    </tr>\n",
       "    <tr>\n",
       "      <td>2</td>\n",
       "      <td>-1</td>\n",
       "      <td>-1</td>\n",
       "      <td>18678581</td>\n",
       "      <td>16793d99389b264237a278059b8f4c4e</td>\n",
       "      <td>18678581</td>\n",
       "      <td>Hippie@Heart</td>\n",
       "      <td>https://www.zomato.com/pune/hippie@heart-decca...</td>\n",
       "      <td>Lane 10, Ground Floor, Bhandarkar Road, Beside...</td>\n",
       "      <td>Deccan Gymkhana</td>\n",
       "      <td>Pune</td>\n",
       "      <td>...</td>\n",
       "      <td>1</td>\n",
       "      <td>https://www.zomato.com/pune/hippie@heart-decca...</td>\n",
       "      <td>080 46971749</td>\n",
       "      <td>[{'review': {'rating': 5, 'review_text': 'Hipp...</td>\n",
       "      <td>[Casual Dining]</td>\n",
       "      <td>[]</td>\n",
       "      <td>1.0</td>\n",
       "      <td>https://www.zomato.com/pune/hippie@heart-decca...</td>\n",
       "      <td>NaN</td>\n",
       "      <td>NaN</td>\n",
       "    </tr>\n",
       "    <tr>\n",
       "      <td>3</td>\n",
       "      <td>1</td>\n",
       "      <td>-1</td>\n",
       "      <td>18650304</td>\n",
       "      <td>16793d99389b264237a278059b8f4c4e</td>\n",
       "      <td>18650304</td>\n",
       "      <td>Tatva</td>\n",
       "      <td>https://www.zomato.com/pune/tatva-wakad?utm_so...</td>\n",
       "      <td>Soham Icon, Thergaon, Wakad Road, Wakad, Pune</td>\n",
       "      <td>Wakad</td>\n",
       "      <td>Pune</td>\n",
       "      <td>...</td>\n",
       "      <td>0</td>\n",
       "      <td>https://www.zomato.com/pune/tatva-wakad/events...</td>\n",
       "      <td>+91 8888523700, +91 8888526700</td>\n",
       "      <td>[{'review': {'rating': 4, 'review_text': '', '...</td>\n",
       "      <td>[Casual Dining]</td>\n",
       "      <td>[]</td>\n",
       "      <td>NaN</td>\n",
       "      <td>NaN</td>\n",
       "      <td>https://www.zomato.com/pune/tatva-wakad/order?...</td>\n",
       "      <td></td>\n",
       "    </tr>\n",
       "    <tr>\n",
       "      <td>4</td>\n",
       "      <td>-1</td>\n",
       "      <td>-1</td>\n",
       "      <td>18536004</td>\n",
       "      <td>16793d99389b264237a278059b8f4c4e</td>\n",
       "      <td>18536004</td>\n",
       "      <td>Culture - पुणे</td>\n",
       "      <td>https://www.zomato.com/pune/culture-fc-road?ut...</td>\n",
       "      <td>Survey 1195/6A, Near Tukaram Paduka Mandir, Gh...</td>\n",
       "      <td>FC Road</td>\n",
       "      <td>Pune</td>\n",
       "      <td>...</td>\n",
       "      <td>0</td>\n",
       "      <td>https://www.zomato.com/pune/culture-fc-road/ev...</td>\n",
       "      <td>080 46971112</td>\n",
       "      <td>[{'review': {'rating': 1, 'review_text': '#ank...</td>\n",
       "      <td>[Bar]</td>\n",
       "      <td>[]</td>\n",
       "      <td>1.0</td>\n",
       "      <td>NaN</td>\n",
       "      <td>NaN</td>\n",
       "      <td>NaN</td>\n",
       "    </tr>\n",
       "  </tbody>\n",
       "</table>\n",
       "<p>5 rows × 60 columns</p>\n",
       "</div>"
      ],
      "text/plain": [
       "   restaurant.R.has_menu_status.delivery  \\\n",
       "0                                     -1   \n",
       "1                                     -1   \n",
       "2                                     -1   \n",
       "3                                      1   \n",
       "4                                     -1   \n",
       "\n",
       "   restaurant.R.has_menu_status.takeaway  restaurant.R.res_id  \\\n",
       "0                                     -1             18893197   \n",
       "1                                     -1             19034129   \n",
       "2                                     -1             18678581   \n",
       "3                                     -1             18650304   \n",
       "4                                     -1             18536004   \n",
       "\n",
       "                  restaurant.apikey restaurant.id restaurant.name  \\\n",
       "0  16793d99389b264237a278059b8f4c4e      18893197  FC Road Social   \n",
       "1  16793d99389b264237a278059b8f4c4e      19034129   Huber & Holly   \n",
       "2  16793d99389b264237a278059b8f4c4e      18678581    Hippie@Heart   \n",
       "3  16793d99389b264237a278059b8f4c4e      18650304           Tatva   \n",
       "4  16793d99389b264237a278059b8f4c4e      18536004  Culture - पुणे   \n",
       "\n",
       "                                      restaurant.url  \\\n",
       "0  https://www.zomato.com/pune/fc-road-social-shi...   \n",
       "1  https://www.zomato.com/pune/huber-holly-korega...   \n",
       "2  https://www.zomato.com/pune/hippie@heart-decca...   \n",
       "3  https://www.zomato.com/pune/tatva-wakad?utm_so...   \n",
       "4  https://www.zomato.com/pune/culture-fc-road?ut...   \n",
       "\n",
       "                         restaurant.location.address  \\\n",
       "0  CTS 1183, Unit 101, 1st Floor & Mezzanine Floo...   \n",
       "1  Shop 2, Ground Floor, Ganga Commerce Apartment...   \n",
       "2  Lane 10, Ground Floor, Bhandarkar Road, Beside...   \n",
       "3      Soham Icon, Thergaon, Wakad Road, Wakad, Pune   \n",
       "4  Survey 1195/6A, Near Tukaram Paduka Mandir, Gh...   \n",
       "\n",
       "  restaurant.location.locality restaurant.location.city  ...  \\\n",
       "0                Shivaji Nagar                     Pune  ...   \n",
       "1                Koregaon Park                     Pune  ...   \n",
       "2              Deccan Gymkhana                     Pune  ...   \n",
       "3                        Wakad                     Pune  ...   \n",
       "4                      FC Road                     Pune  ...   \n",
       "\n",
       "   restaurant.has_table_booking  \\\n",
       "0                             0   \n",
       "1                             0   \n",
       "2                             1   \n",
       "3                             0   \n",
       "4                             0   \n",
       "\n",
       "                               restaurant.events_url  \\\n",
       "0  https://www.zomato.com/pune/fc-road-social-shi...   \n",
       "1  https://www.zomato.com/pune/huber-holly-korega...   \n",
       "2  https://www.zomato.com/pune/hippie@heart-decca...   \n",
       "3  https://www.zomato.com/pune/tatva-wakad/events...   \n",
       "4  https://www.zomato.com/pune/culture-fc-road/ev...   \n",
       "\n",
       "         restaurant.phone_numbers  \\\n",
       "0    +91 9172378889, 020 29805112   \n",
       "1                    080 46971586   \n",
       "2                    080 46971749   \n",
       "3  +91 8888523700, +91 8888526700   \n",
       "4                    080 46971112   \n",
       "\n",
       "                      restaurant.all_reviews.reviews  \\\n",
       "0  [{'review': {'rating': 2, 'review_text': 'Visi...   \n",
       "1  [{'review': {'rating': 5, 'review_text': 'Pune...   \n",
       "2  [{'review': {'rating': 5, 'review_text': 'Hipp...   \n",
       "3  [{'review': {'rating': 4, 'review_text': '', '...   \n",
       "4  [{'review': {'rating': 1, 'review_text': '#ank...   \n",
       "\n",
       "   restaurant.establishment restaurant.establishment_types  \\\n",
       "0                     [Bar]                             []   \n",
       "1         [Dessert Parlour]                             []   \n",
       "2           [Casual Dining]                             []   \n",
       "3           [Casual Dining]                             []   \n",
       "4                     [Bar]                             []   \n",
       "\n",
       "   restaurant.medio_provider  \\\n",
       "0                        NaN   \n",
       "1                        NaN   \n",
       "2                        1.0   \n",
       "3                        NaN   \n",
       "4                        1.0   \n",
       "\n",
       "                                 restaurant.book_url  \\\n",
       "0                                                NaN   \n",
       "1                                                NaN   \n",
       "2  https://www.zomato.com/pune/hippie@heart-decca...   \n",
       "3                                                NaN   \n",
       "4                                                NaN   \n",
       "\n",
       "                                restaurant.order_url  \\\n",
       "0                                                NaN   \n",
       "1                                                NaN   \n",
       "2                                                NaN   \n",
       "3  https://www.zomato.com/pune/tatva-wakad/order?...   \n",
       "4                                                NaN   \n",
       "\n",
       "   restaurant.order_deeplink  \n",
       "0                        NaN  \n",
       "1                        NaN  \n",
       "2                        NaN  \n",
       "3                             \n",
       "4                        NaN  \n",
       "\n",
       "[5 rows x 60 columns]"
      ]
     },
     "execution_count": 167,
     "metadata": {},
     "output_type": "execute_result"
    }
   ],
   "source": [
    "restaurant_data = resp_to_df(response_search, 'restaurants')\n",
    "restaurant_data.head()"
   ]
  },
  {
   "cell_type": "code",
   "execution_count": 168,
   "metadata": {},
   "outputs": [
    {
     "name": "stdout",
     "output_type": "stream",
     "text": [
      "Shape of the review dataset: (100, 18)\n"
     ]
    },
    {
     "data": {
      "text/html": [
       "<div>\n",
       "<style scoped>\n",
       "    .dataframe tbody tr th:only-of-type {\n",
       "        vertical-align: middle;\n",
       "    }\n",
       "\n",
       "    .dataframe tbody tr th {\n",
       "        vertical-align: top;\n",
       "    }\n",
       "\n",
       "    .dataframe thead th {\n",
       "        text-align: right;\n",
       "    }\n",
       "</style>\n",
       "<table border=\"1\" class=\"dataframe\">\n",
       "  <thead>\n",
       "    <tr style=\"text-align: right;\">\n",
       "      <th></th>\n",
       "      <th>review.rating</th>\n",
       "      <th>review.review_text</th>\n",
       "      <th>review.id</th>\n",
       "      <th>review.rating_color</th>\n",
       "      <th>review.review_time_friendly</th>\n",
       "      <th>review.rating_text</th>\n",
       "      <th>review.timestamp</th>\n",
       "      <th>review.likes</th>\n",
       "      <th>review.user.name</th>\n",
       "      <th>review.user.zomato_handle</th>\n",
       "      <th>review.user.foodie_level</th>\n",
       "      <th>review.user.foodie_level_num</th>\n",
       "      <th>review.user.foodie_color</th>\n",
       "      <th>review.user.profile_url</th>\n",
       "      <th>review.user.profile_image</th>\n",
       "      <th>review.user.profile_deeplink</th>\n",
       "      <th>review.comments_count</th>\n",
       "      <th>restaurant.name</th>\n",
       "    </tr>\n",
       "  </thead>\n",
       "  <tbody>\n",
       "    <tr>\n",
       "      <td>0</td>\n",
       "      <td>2</td>\n",
       "      <td>Visited for the first time and the experience ...</td>\n",
       "      <td>45189598</td>\n",
       "      <td>FF7800</td>\n",
       "      <td>an hour ago</td>\n",
       "      <td>Blah!</td>\n",
       "      <td>1569039124</td>\n",
       "      <td>0</td>\n",
       "      <td>Coby</td>\n",
       "      <td>superfunkie</td>\n",
       "      <td>Super Foodie</td>\n",
       "      <td>8</td>\n",
       "      <td>f58552</td>\n",
       "      <td>https://www.zomato.com/superfunkie?utm_source=...</td>\n",
       "      <td>https://b.zmtcdn.com/data/user_profile_picture...</td>\n",
       "      <td>zomato://u/304797</td>\n",
       "      <td>0</td>\n",
       "      <td>FC Road Social</td>\n",
       "    </tr>\n",
       "    <tr>\n",
       "      <td>1</td>\n",
       "      <td>4</td>\n",
       "      <td>When you go.. ask for manu , he’ll get you the...</td>\n",
       "      <td>45172098</td>\n",
       "      <td>5BA829</td>\n",
       "      <td>24 hours ago</td>\n",
       "      <td>Great!</td>\n",
       "      <td>1568956227</td>\n",
       "      <td>0</td>\n",
       "      <td>Madhurima Patil</td>\n",
       "      <td>NaN</td>\n",
       "      <td>Foodie</td>\n",
       "      <td>2</td>\n",
       "      <td>ffd35d</td>\n",
       "      <td>https://www.zomato.com/users/madhurima-patil-3...</td>\n",
       "      <td>https://b.zmtcdn.com/data/user_profile_picture...</td>\n",
       "      <td>zomato://u/34544177</td>\n",
       "      <td>0</td>\n",
       "      <td>FC Road Social</td>\n",
       "    </tr>\n",
       "    <tr>\n",
       "      <td>2</td>\n",
       "      <td>5</td>\n",
       "      <td>Manu our host for the evening was fabulous! He...</td>\n",
       "      <td>45168929</td>\n",
       "      <td>305D02</td>\n",
       "      <td>yesterday</td>\n",
       "      <td>Insane!</td>\n",
       "      <td>1568919931</td>\n",
       "      <td>0</td>\n",
       "      <td>Aditi Madkar</td>\n",
       "      <td>NaN</td>\n",
       "      <td>Foodie</td>\n",
       "      <td>3</td>\n",
       "      <td>ffd35d</td>\n",
       "      <td>https://www.zomato.com/users/aditi-madkar-1443...</td>\n",
       "      <td>https://b.zmtcdn.com/data/user_profile_picture...</td>\n",
       "      <td>zomato://u/14435971</td>\n",
       "      <td>0</td>\n",
       "      <td>FC Road Social</td>\n",
       "    </tr>\n",
       "    <tr>\n",
       "      <td>3</td>\n",
       "      <td>4</td>\n",
       "      <td>Excellent place good food very courteous staff...</td>\n",
       "      <td>45167951</td>\n",
       "      <td>5BA829</td>\n",
       "      <td>yesterday</td>\n",
       "      <td>Great!</td>\n",
       "      <td>1568916447</td>\n",
       "      <td>0</td>\n",
       "      <td>Abdul Shaikh</td>\n",
       "      <td>NaN</td>\n",
       "      <td>Foodie</td>\n",
       "      <td>2</td>\n",
       "      <td>ffd35d</td>\n",
       "      <td>https://www.zomato.com/users/abdul-shaikh-3199...</td>\n",
       "      <td>https://b.zmtcdn.com/data/user_profile_picture...</td>\n",
       "      <td>zomato://u/31998707</td>\n",
       "      <td>0</td>\n",
       "      <td>FC Road Social</td>\n",
       "    </tr>\n",
       "    <tr>\n",
       "      <td>4</td>\n",
       "      <td>1</td>\n",
       "      <td>We ordered Budweiser tower but they gave us th...</td>\n",
       "      <td>45167288</td>\n",
       "      <td>CB202D</td>\n",
       "      <td>yesterday</td>\n",
       "      <td>Avoid!</td>\n",
       "      <td>1568914603</td>\n",
       "      <td>0</td>\n",
       "      <td>Nilesh Jagadale</td>\n",
       "      <td>NaN</td>\n",
       "      <td>Foodie</td>\n",
       "      <td>2</td>\n",
       "      <td>ffd35d</td>\n",
       "      <td>https://www.zomato.com/users/nilesh-jagadale-4...</td>\n",
       "      <td>https://b.zmtcdn.com/data/user_profile_picture...</td>\n",
       "      <td>zomato://u/44285648</td>\n",
       "      <td>0</td>\n",
       "      <td>FC Road Social</td>\n",
       "    </tr>\n",
       "  </tbody>\n",
       "</table>\n",
       "</div>"
      ],
      "text/plain": [
       "   review.rating                                 review.review_text  \\\n",
       "0              2  Visited for the first time and the experience ...   \n",
       "1              4  When you go.. ask for manu , he’ll get you the...   \n",
       "2              5  Manu our host for the evening was fabulous! He...   \n",
       "3              4  Excellent place good food very courteous staff...   \n",
       "4              1  We ordered Budweiser tower but they gave us th...   \n",
       "\n",
       "   review.id review.rating_color review.review_time_friendly  \\\n",
       "0   45189598              FF7800                 an hour ago   \n",
       "1   45172098              5BA829                24 hours ago   \n",
       "2   45168929              305D02                   yesterday   \n",
       "3   45167951              5BA829                   yesterday   \n",
       "4   45167288              CB202D                   yesterday   \n",
       "\n",
       "  review.rating_text  review.timestamp  review.likes review.user.name  \\\n",
       "0              Blah!        1569039124             0             Coby   \n",
       "1             Great!        1568956227             0  Madhurima Patil   \n",
       "2            Insane!        1568919931             0     Aditi Madkar   \n",
       "3             Great!        1568916447             0     Abdul Shaikh   \n",
       "4             Avoid!        1568914603             0  Nilesh Jagadale   \n",
       "\n",
       "  review.user.zomato_handle review.user.foodie_level  \\\n",
       "0               superfunkie             Super Foodie   \n",
       "1                       NaN                   Foodie   \n",
       "2                       NaN                   Foodie   \n",
       "3                       NaN                   Foodie   \n",
       "4                       NaN                   Foodie   \n",
       "\n",
       "   review.user.foodie_level_num review.user.foodie_color  \\\n",
       "0                             8                   f58552   \n",
       "1                             2                   ffd35d   \n",
       "2                             3                   ffd35d   \n",
       "3                             2                   ffd35d   \n",
       "4                             2                   ffd35d   \n",
       "\n",
       "                             review.user.profile_url  \\\n",
       "0  https://www.zomato.com/superfunkie?utm_source=...   \n",
       "1  https://www.zomato.com/users/madhurima-patil-3...   \n",
       "2  https://www.zomato.com/users/aditi-madkar-1443...   \n",
       "3  https://www.zomato.com/users/abdul-shaikh-3199...   \n",
       "4  https://www.zomato.com/users/nilesh-jagadale-4...   \n",
       "\n",
       "                           review.user.profile_image  \\\n",
       "0  https://b.zmtcdn.com/data/user_profile_picture...   \n",
       "1  https://b.zmtcdn.com/data/user_profile_picture...   \n",
       "2  https://b.zmtcdn.com/data/user_profile_picture...   \n",
       "3  https://b.zmtcdn.com/data/user_profile_picture...   \n",
       "4  https://b.zmtcdn.com/data/user_profile_picture...   \n",
       "\n",
       "  review.user.profile_deeplink  review.comments_count restaurant.name  \n",
       "0            zomato://u/304797                      0  FC Road Social  \n",
       "1          zomato://u/34544177                      0  FC Road Social  \n",
       "2          zomato://u/14435971                      0  FC Road Social  \n",
       "3          zomato://u/31998707                      0  FC Road Social  \n",
       "4          zomato://u/44285648                      0  FC Road Social  "
      ]
     },
     "metadata": {},
     "output_type": "display_data"
    },
    {
     "name": "stdout",
     "output_type": "stream",
     "text": [
      "['review.rating' 'review.review_text' 'review.id' 'review.rating_color'\n",
      " 'review.review_time_friendly' 'review.rating_text' 'review.timestamp'\n",
      " 'review.likes' 'review.user.name' 'review.user.zomato_handle'\n",
      " 'review.user.foodie_level' 'review.user.foodie_level_num'\n",
      " 'review.user.foodie_color' 'review.user.profile_url'\n",
      " 'review.user.profile_image' 'review.user.profile_deeplink'\n",
      " 'review.comments_count' 'restaurant.name']\n"
     ]
    }
   ],
   "source": [
    "restaurant_review_data = resp_to_df(response_search, key = 'restaurants', record_path = ['restaurant', 'all_reviews', 'reviews'], \n",
    "                             meta = [['restaurant', 'name']])\n",
    "print('Shape of the review dataset: {}'.format(restaurant_review_data.shape))\n",
    "display(restaurant_review_data.head())\n",
    "print(restaurant_review_data.columns.values)"
   ]
  },
  {
   "cell_type": "markdown",
   "metadata": {},
   "source": [
    "### Which are the top restaurants by average ratings?"
   ]
  },
  {
   "cell_type": "code",
   "execution_count": 169,
   "metadata": {},
   "outputs": [
    {
     "data": {
      "text/html": [
       "<div>\n",
       "<style scoped>\n",
       "    .dataframe tbody tr th:only-of-type {\n",
       "        vertical-align: middle;\n",
       "    }\n",
       "\n",
       "    .dataframe tbody tr th {\n",
       "        vertical-align: top;\n",
       "    }\n",
       "\n",
       "    .dataframe thead th {\n",
       "        text-align: right;\n",
       "    }\n",
       "</style>\n",
       "<table border=\"1\" class=\"dataframe\">\n",
       "  <thead>\n",
       "    <tr style=\"text-align: right;\">\n",
       "      <th></th>\n",
       "      <th>review.rating</th>\n",
       "    </tr>\n",
       "    <tr>\n",
       "      <th>restaurant.name</th>\n",
       "      <th></th>\n",
       "    </tr>\n",
       "  </thead>\n",
       "  <tbody>\n",
       "    <tr>\n",
       "      <td>The Barkhana</td>\n",
       "      <td>5.0</td>\n",
       "    </tr>\n",
       "    <tr>\n",
       "      <td>Darshan</td>\n",
       "      <td>4.8</td>\n",
       "    </tr>\n",
       "    <tr>\n",
       "      <td>Pop Tate's</td>\n",
       "      <td>4.8</td>\n",
       "    </tr>\n",
       "    <tr>\n",
       "      <td>McDonald's</td>\n",
       "      <td>4.8</td>\n",
       "    </tr>\n",
       "    <tr>\n",
       "      <td>Hippie@Heart</td>\n",
       "      <td>4.8</td>\n",
       "    </tr>\n",
       "    <tr>\n",
       "      <td>Huber &amp; Holly</td>\n",
       "      <td>4.6</td>\n",
       "    </tr>\n",
       "    <tr>\n",
       "      <td>Le Plaisir</td>\n",
       "      <td>4.6</td>\n",
       "    </tr>\n",
       "    <tr>\n",
       "      <td>Tatva</td>\n",
       "      <td>4.4</td>\n",
       "    </tr>\n",
       "    <tr>\n",
       "      <td>AB's - Absolute Barbecues</td>\n",
       "      <td>4.2</td>\n",
       "    </tr>\n",
       "    <tr>\n",
       "      <td>Anna Idli</td>\n",
       "      <td>3.8</td>\n",
       "    </tr>\n",
       "    <tr>\n",
       "      <td>Culture - पुणे</td>\n",
       "      <td>3.8</td>\n",
       "    </tr>\n",
       "    <tr>\n",
       "      <td>Flying Duck Co.</td>\n",
       "      <td>3.6</td>\n",
       "    </tr>\n",
       "    <tr>\n",
       "      <td>The Millers Homebar &amp; Kitchen</td>\n",
       "      <td>3.6</td>\n",
       "    </tr>\n",
       "    <tr>\n",
       "      <td>Flechazo</td>\n",
       "      <td>3.4</td>\n",
       "    </tr>\n",
       "    <tr>\n",
       "      <td>Spice Factory</td>\n",
       "      <td>3.4</td>\n",
       "    </tr>\n",
       "    <tr>\n",
       "      <td>Vaishali</td>\n",
       "      <td>3.4</td>\n",
       "    </tr>\n",
       "    <tr>\n",
       "      <td>Kargo</td>\n",
       "      <td>3.2</td>\n",
       "    </tr>\n",
       "    <tr>\n",
       "      <td>FC Road Social</td>\n",
       "      <td>3.2</td>\n",
       "    </tr>\n",
       "    <tr>\n",
       "      <td>Hotel Neha</td>\n",
       "      <td>2.8</td>\n",
       "    </tr>\n",
       "  </tbody>\n",
       "</table>\n",
       "</div>"
      ],
      "text/plain": [
       "                               review.rating\n",
       "restaurant.name                             \n",
       "The Barkhana                             5.0\n",
       "Darshan                                  4.8\n",
       "Pop Tate's                               4.8\n",
       "McDonald's                               4.8\n",
       "Hippie@Heart                             4.8\n",
       "Huber & Holly                            4.6\n",
       "Le Plaisir                               4.6\n",
       "Tatva                                    4.4\n",
       "AB's - Absolute Barbecues                4.2\n",
       "Anna Idli                                3.8\n",
       "Culture - पुणे                           3.8\n",
       "Flying Duck Co.                          3.6\n",
       "The Millers Homebar & Kitchen            3.6\n",
       "Flechazo                                 3.4\n",
       "Spice Factory                            3.4\n",
       "Vaishali                                 3.4\n",
       "Kargo                                    3.2\n",
       "FC Road Social                           3.2\n",
       "Hotel Neha                               2.8"
      ]
     },
     "execution_count": 169,
     "metadata": {},
     "output_type": "execute_result"
    }
   ],
   "source": [
    "pd.DataFrame(restaurant_review_data.groupby(['restaurant.name'])['review.rating'].mean()).sort_values('review.rating', ascending=False)"
   ]
  },
  {
   "cell_type": "code",
   "execution_count": 170,
   "metadata": {},
   "outputs": [],
   "source": [
    "locationdetails_api_url = base_url+'location_details'\n",
    "params = {'entity_id':'5', 'entity_type': 'city', 'order' : 'asc'}\n",
    "response_loc = requests.get(locationdetails_api_url, params = params, headers=header)"
   ]
  },
  {
   "cell_type": "code",
   "execution_count": 171,
   "metadata": {},
   "outputs": [
    {
     "data": {
      "text/plain": [
       "restaurant.R.has_menu_status.delivery                                   1\n",
       "restaurant.R.has_menu_status.takeaway                                  -1\n",
       "restaurant.R.res_id                                              18893197\n",
       "restaurant.apikey                        16793d99389b264237a278059b8f4c4e\n",
       "restaurant.id                                                    18893197\n",
       "Name: 0, dtype: object"
      ]
     },
     "execution_count": 171,
     "metadata": {},
     "output_type": "execute_result"
    }
   ],
   "source": [
    "js_str = json.loads(response_loc.text) \n",
    "df = json_normalize(js_str['best_rated_restaurant']).iloc[0]\n",
    "df.head()\n",
    "#response_loc.json()"
   ]
  },
  {
   "cell_type": "code",
   "execution_count": 226,
   "metadata": {},
   "outputs": [],
   "source": [
    "def scattermap_restaurants(data_df, city_name = 'Pune', lat = 18.55, lon = 73.8, zoom = 9, marker_size = 8):\n",
    "\n",
    "    mapbox_access_token = open(\"mapbox_token\").read()\n",
    "    fig = go.Figure(data=go.Scattermapbox(\n",
    "        lon = data_df['restaurant.location.longitude'],\n",
    "        lat = data_df['restaurant.location.latitude'],\n",
    "        text = data_df['restaurant.name'] + ', ' + data_df['restaurant.location.locality'] + '<br> Rating: ' +\n",
    "    data_df['restaurant.user_rating.aggregate_rating'].astype(str)+ ', '\n",
    "    + '<br>' + data_df['restaurant.cuisines'] + '<br> Cost for two: ' + data_df['restaurant.average_cost_for_two'].astype(str),\n",
    "        mode = 'markers',\n",
    "    marker=go.scattermapbox.Marker(\n",
    "             size = marker_size,\n",
    "           symbol = 'marker',  #can't use symbol with color\n",
    " #         color = 'red',   \n",
    "             opacity = 1, #colorscale = 'viridis', colorbar_title = \"Aggregate rating<br>of restaurants\",cmin=2        \n",
    "            )\n",
    "        ))\n",
    "\n",
    "    fig.update_layout(\n",
    "     title = 'Restaurants in {}'.format(city_name),\n",
    "    autosize=True,\n",
    "    hovermode='closest',\n",
    "    mapbox=go.layout.Mapbox(\n",
    "        accesstoken=mapbox_access_token,\n",
    "        bearing=0,\n",
    "        center=go.layout.mapbox.Center(\n",
    "            lat = lat,\n",
    "            lon = lon ),\n",
    "        pitch=0,    #Sets the pitch angle of the map (in degrees, where \"0\" means perpendicular to the surface of the map) \n",
    "        zoom= zoom,\n",
    "        style='light'\n",
    "    ), \n",
    "    )\n",
    "   \n",
    "    fig.show()"
   ]
  },
  {
   "cell_type": "code",
   "execution_count": 229,
   "metadata": {},
   "outputs": [
    {
     "data": {
      "application/vnd.plotly.v1+json": {
       "config": {
        "plotlyServerURL": "https://plot.ly"
       },
       "data": [
        {
         "lat": [
          "18.5290128326",
          "18.5391940000",
          "18.5187145874",
          "18.6014174482",
          "18.5250483010",
          "18.5687319093",
          "18.5193348395",
          "18.5928910588",
          "18.5528321011",
          "18.5712172626",
          "18.5620300000",
          "18.4572739000",
          "18.5908099220",
          "18.5936750138",
          "18.5366523475",
          "18.5142077577",
          "18.5209469756",
          "18.5908915918",
          "18.5320780000",
          "18.5937967220"
         ],
         "lon": [
          "73.8437257335",
          "73.8974900000",
          "73.8362567872",
          "73.7639504671",
          "73.8414897770",
          "73.7670189142",
          "73.9308931679",
          "73.7600371242",
          "73.8031583279",
          "73.7749106437",
          "73.9167630000",
          "73.8521039000",
          "73.7531398237",
          "73.7353403494",
          "73.8965649158",
          "73.8384558633",
          "73.8410837576",
          "73.7530784681",
          "73.8705740000",
          "73.7570528314"
         ],
         "marker": {
          "opacity": 1,
          "size": 10,
          "symbol": "marker"
         },
         "mode": "markers",
         "text": [
          "FC Road Social, Shivaji Nagar<br> Rating: 4.5, <br>Continental, American, Asian, North Indian, South Indian, European, Chinese, Fast Food<br> Cost for two: 1500",
          "Huber & Holly, Koregaon Park<br> Rating: 4.7, <br>Ice Cream, Desserts, Fast Food<br> Cost for two: 800",
          "Hippie@Heart, Deccan Gymkhana<br> Rating: 4.5, <br>Continental, Italian, North Indian, Finger Food, European<br> Cost for two: 1300",
          "Tatva, Wakad<br> Rating: 4.4, <br>North Indian, Chinese, Continental<br> Cost for two: 850",
          "Culture - पुणे, FC Road<br> Rating: 4.3, <br>Bar Food, North Indian, Italian, Continental<br> Cost for two: 1300",
          "Darshan, Baner<br> Rating: 4.8, <br>Italian, Continental, Chinese, Mexican, Fast Food, Street Food, Desserts<br> Cost for two: 700",
          "AB's - Absolute Barbecues, Seasons Mall, Magarpatta <br> Rating: 4.6, <br>European, Mediterranean<br> Cost for two: 1400",
          "Flechazo, Wakad<br> Rating: 4.5, <br>Asian, Mediterranean, North Indian<br> Cost for two: 1400",
          "Anna Idli, Baner<br> Rating: 4.5, <br>South Indian, Fast Food<br> Cost for two: 400",
          "Flying Duck Co., Balewadi High Street, Baner<br> Rating: 4.6, <br>Asian, European<br> Cost for two: 1200",
          "Pop Tate's, Phoenix Market City, Viman Nagar<br> Rating: 4.8, <br>Continental, Italian, Chinese<br> Cost for two: 1400",
          "Hotel Neha, Katraj<br> Rating: 3.7, <br>North Indian, Chinese<br> Cost for two: 450",
          "AB's - Absolute Barbecues, White Square, Hinjawadi<br> Rating: 4.9, <br>Continental, North Indian, Chinese<br> Cost for two: 1400",
          "McDonald's, Hinjawadi<br> Rating: 3.8, <br>Burger, Fast Food<br> Cost for two: 500",
          "Kargo, Koregaon Park<br> Rating: 4.5, <br>Asian, Continental, North Indian<br> Cost for two: 1100",
          "Le Plaisir, Deccan Gymkhana<br> Rating: 4.7, <br>European, Italian, Fast Food, Salad, Continental, Beverages, Desserts<br> Cost for two: 1000",
          "Vaishali, FC Road<br> Rating: 4.4, <br>South Indian, Street Food, Fast Food<br> Cost for two: 500",
          "Spice Factory, White Square, Hinjawadi<br> Rating: 4.0, <br>North Indian, Italian, Chinese<br> Cost for two: 2000",
          "The Millers Homebar & Kitchen, The Mills, Bund Garden Road<br> Rating: 4.4, <br>Continental, North Indian, Thai<br> Cost for two: 1300",
          "The Barkhana, Wakad<br> Rating: 4.7, <br>North Indian, Continental, Chinese<br> Cost for two: 1700"
         ],
         "type": "scattermapbox"
        }
       ],
       "layout": {
        "autosize": true,
        "hovermode": "closest",
        "mapbox": {
         "accesstoken": "pk.eyJ1IjoiZHNhbnlhbCIsImEiOiJjazBrdzIxa3cwaGJlM25td3hsemYwajNzIn0.CVip4c3HeUOHf_M-mjAVkA\n",
         "bearing": 0,
         "center": {
          "lat": 18.55,
          "lon": 73.8
         },
         "pitch": 0,
         "style": "light",
         "zoom": 10
        },
        "template": {
         "data": {
          "bar": [
           {
            "error_x": {
             "color": "#2a3f5f"
            },
            "error_y": {
             "color": "#2a3f5f"
            },
            "marker": {
             "line": {
              "color": "#E5ECF6",
              "width": 0.5
             }
            },
            "type": "bar"
           }
          ],
          "barpolar": [
           {
            "marker": {
             "line": {
              "color": "#E5ECF6",
              "width": 0.5
             }
            },
            "type": "barpolar"
           }
          ],
          "carpet": [
           {
            "aaxis": {
             "endlinecolor": "#2a3f5f",
             "gridcolor": "white",
             "linecolor": "white",
             "minorgridcolor": "white",
             "startlinecolor": "#2a3f5f"
            },
            "baxis": {
             "endlinecolor": "#2a3f5f",
             "gridcolor": "white",
             "linecolor": "white",
             "minorgridcolor": "white",
             "startlinecolor": "#2a3f5f"
            },
            "type": "carpet"
           }
          ],
          "choropleth": [
           {
            "colorbar": {
             "outlinewidth": 0,
             "ticks": ""
            },
            "type": "choropleth"
           }
          ],
          "contour": [
           {
            "colorbar": {
             "outlinewidth": 0,
             "ticks": ""
            },
            "colorscale": [
             [
              0,
              "#0d0887"
             ],
             [
              0.1111111111111111,
              "#46039f"
             ],
             [
              0.2222222222222222,
              "#7201a8"
             ],
             [
              0.3333333333333333,
              "#9c179e"
             ],
             [
              0.4444444444444444,
              "#bd3786"
             ],
             [
              0.5555555555555556,
              "#d8576b"
             ],
             [
              0.6666666666666666,
              "#ed7953"
             ],
             [
              0.7777777777777778,
              "#fb9f3a"
             ],
             [
              0.8888888888888888,
              "#fdca26"
             ],
             [
              1,
              "#f0f921"
             ]
            ],
            "type": "contour"
           }
          ],
          "contourcarpet": [
           {
            "colorbar": {
             "outlinewidth": 0,
             "ticks": ""
            },
            "type": "contourcarpet"
           }
          ],
          "heatmap": [
           {
            "colorbar": {
             "outlinewidth": 0,
             "ticks": ""
            },
            "colorscale": [
             [
              0,
              "#0d0887"
             ],
             [
              0.1111111111111111,
              "#46039f"
             ],
             [
              0.2222222222222222,
              "#7201a8"
             ],
             [
              0.3333333333333333,
              "#9c179e"
             ],
             [
              0.4444444444444444,
              "#bd3786"
             ],
             [
              0.5555555555555556,
              "#d8576b"
             ],
             [
              0.6666666666666666,
              "#ed7953"
             ],
             [
              0.7777777777777778,
              "#fb9f3a"
             ],
             [
              0.8888888888888888,
              "#fdca26"
             ],
             [
              1,
              "#f0f921"
             ]
            ],
            "type": "heatmap"
           }
          ],
          "heatmapgl": [
           {
            "colorbar": {
             "outlinewidth": 0,
             "ticks": ""
            },
            "colorscale": [
             [
              0,
              "#0d0887"
             ],
             [
              0.1111111111111111,
              "#46039f"
             ],
             [
              0.2222222222222222,
              "#7201a8"
             ],
             [
              0.3333333333333333,
              "#9c179e"
             ],
             [
              0.4444444444444444,
              "#bd3786"
             ],
             [
              0.5555555555555556,
              "#d8576b"
             ],
             [
              0.6666666666666666,
              "#ed7953"
             ],
             [
              0.7777777777777778,
              "#fb9f3a"
             ],
             [
              0.8888888888888888,
              "#fdca26"
             ],
             [
              1,
              "#f0f921"
             ]
            ],
            "type": "heatmapgl"
           }
          ],
          "histogram": [
           {
            "marker": {
             "colorbar": {
              "outlinewidth": 0,
              "ticks": ""
             }
            },
            "type": "histogram"
           }
          ],
          "histogram2d": [
           {
            "colorbar": {
             "outlinewidth": 0,
             "ticks": ""
            },
            "colorscale": [
             [
              0,
              "#0d0887"
             ],
             [
              0.1111111111111111,
              "#46039f"
             ],
             [
              0.2222222222222222,
              "#7201a8"
             ],
             [
              0.3333333333333333,
              "#9c179e"
             ],
             [
              0.4444444444444444,
              "#bd3786"
             ],
             [
              0.5555555555555556,
              "#d8576b"
             ],
             [
              0.6666666666666666,
              "#ed7953"
             ],
             [
              0.7777777777777778,
              "#fb9f3a"
             ],
             [
              0.8888888888888888,
              "#fdca26"
             ],
             [
              1,
              "#f0f921"
             ]
            ],
            "type": "histogram2d"
           }
          ],
          "histogram2dcontour": [
           {
            "colorbar": {
             "outlinewidth": 0,
             "ticks": ""
            },
            "colorscale": [
             [
              0,
              "#0d0887"
             ],
             [
              0.1111111111111111,
              "#46039f"
             ],
             [
              0.2222222222222222,
              "#7201a8"
             ],
             [
              0.3333333333333333,
              "#9c179e"
             ],
             [
              0.4444444444444444,
              "#bd3786"
             ],
             [
              0.5555555555555556,
              "#d8576b"
             ],
             [
              0.6666666666666666,
              "#ed7953"
             ],
             [
              0.7777777777777778,
              "#fb9f3a"
             ],
             [
              0.8888888888888888,
              "#fdca26"
             ],
             [
              1,
              "#f0f921"
             ]
            ],
            "type": "histogram2dcontour"
           }
          ],
          "mesh3d": [
           {
            "colorbar": {
             "outlinewidth": 0,
             "ticks": ""
            },
            "type": "mesh3d"
           }
          ],
          "parcoords": [
           {
            "line": {
             "colorbar": {
              "outlinewidth": 0,
              "ticks": ""
             }
            },
            "type": "parcoords"
           }
          ],
          "scatter": [
           {
            "marker": {
             "colorbar": {
              "outlinewidth": 0,
              "ticks": ""
             }
            },
            "type": "scatter"
           }
          ],
          "scatter3d": [
           {
            "line": {
             "colorbar": {
              "outlinewidth": 0,
              "ticks": ""
             }
            },
            "marker": {
             "colorbar": {
              "outlinewidth": 0,
              "ticks": ""
             }
            },
            "type": "scatter3d"
           }
          ],
          "scattercarpet": [
           {
            "marker": {
             "colorbar": {
              "outlinewidth": 0,
              "ticks": ""
             }
            },
            "type": "scattercarpet"
           }
          ],
          "scattergeo": [
           {
            "marker": {
             "colorbar": {
              "outlinewidth": 0,
              "ticks": ""
             }
            },
            "type": "scattergeo"
           }
          ],
          "scattergl": [
           {
            "marker": {
             "colorbar": {
              "outlinewidth": 0,
              "ticks": ""
             }
            },
            "type": "scattergl"
           }
          ],
          "scattermapbox": [
           {
            "marker": {
             "colorbar": {
              "outlinewidth": 0,
              "ticks": ""
             }
            },
            "type": "scattermapbox"
           }
          ],
          "scatterpolar": [
           {
            "marker": {
             "colorbar": {
              "outlinewidth": 0,
              "ticks": ""
             }
            },
            "type": "scatterpolar"
           }
          ],
          "scatterpolargl": [
           {
            "marker": {
             "colorbar": {
              "outlinewidth": 0,
              "ticks": ""
             }
            },
            "type": "scatterpolargl"
           }
          ],
          "scatterternary": [
           {
            "marker": {
             "colorbar": {
              "outlinewidth": 0,
              "ticks": ""
             }
            },
            "type": "scatterternary"
           }
          ],
          "surface": [
           {
            "colorbar": {
             "outlinewidth": 0,
             "ticks": ""
            },
            "colorscale": [
             [
              0,
              "#0d0887"
             ],
             [
              0.1111111111111111,
              "#46039f"
             ],
             [
              0.2222222222222222,
              "#7201a8"
             ],
             [
              0.3333333333333333,
              "#9c179e"
             ],
             [
              0.4444444444444444,
              "#bd3786"
             ],
             [
              0.5555555555555556,
              "#d8576b"
             ],
             [
              0.6666666666666666,
              "#ed7953"
             ],
             [
              0.7777777777777778,
              "#fb9f3a"
             ],
             [
              0.8888888888888888,
              "#fdca26"
             ],
             [
              1,
              "#f0f921"
             ]
            ],
            "type": "surface"
           }
          ],
          "table": [
           {
            "cells": {
             "fill": {
              "color": "#EBF0F8"
             },
             "line": {
              "color": "white"
             }
            },
            "header": {
             "fill": {
              "color": "#C8D4E3"
             },
             "line": {
              "color": "white"
             }
            },
            "type": "table"
           }
          ]
         },
         "layout": {
          "annotationdefaults": {
           "arrowcolor": "#2a3f5f",
           "arrowhead": 0,
           "arrowwidth": 1
          },
          "colorscale": {
           "diverging": [
            [
             0,
             "#8e0152"
            ],
            [
             0.1,
             "#c51b7d"
            ],
            [
             0.2,
             "#de77ae"
            ],
            [
             0.3,
             "#f1b6da"
            ],
            [
             0.4,
             "#fde0ef"
            ],
            [
             0.5,
             "#f7f7f7"
            ],
            [
             0.6,
             "#e6f5d0"
            ],
            [
             0.7,
             "#b8e186"
            ],
            [
             0.8,
             "#7fbc41"
            ],
            [
             0.9,
             "#4d9221"
            ],
            [
             1,
             "#276419"
            ]
           ],
           "sequential": [
            [
             0,
             "#0d0887"
            ],
            [
             0.1111111111111111,
             "#46039f"
            ],
            [
             0.2222222222222222,
             "#7201a8"
            ],
            [
             0.3333333333333333,
             "#9c179e"
            ],
            [
             0.4444444444444444,
             "#bd3786"
            ],
            [
             0.5555555555555556,
             "#d8576b"
            ],
            [
             0.6666666666666666,
             "#ed7953"
            ],
            [
             0.7777777777777778,
             "#fb9f3a"
            ],
            [
             0.8888888888888888,
             "#fdca26"
            ],
            [
             1,
             "#f0f921"
            ]
           ],
           "sequentialminus": [
            [
             0,
             "#0d0887"
            ],
            [
             0.1111111111111111,
             "#46039f"
            ],
            [
             0.2222222222222222,
             "#7201a8"
            ],
            [
             0.3333333333333333,
             "#9c179e"
            ],
            [
             0.4444444444444444,
             "#bd3786"
            ],
            [
             0.5555555555555556,
             "#d8576b"
            ],
            [
             0.6666666666666666,
             "#ed7953"
            ],
            [
             0.7777777777777778,
             "#fb9f3a"
            ],
            [
             0.8888888888888888,
             "#fdca26"
            ],
            [
             1,
             "#f0f921"
            ]
           ]
          },
          "colorway": [
           "#636efa",
           "#EF553B",
           "#00cc96",
           "#ab63fa",
           "#FFA15A",
           "#19d3f3",
           "#FF6692",
           "#B6E880",
           "#FF97FF",
           "#FECB52"
          ],
          "font": {
           "color": "#2a3f5f"
          },
          "geo": {
           "bgcolor": "white",
           "lakecolor": "white",
           "landcolor": "#E5ECF6",
           "showlakes": true,
           "showland": true,
           "subunitcolor": "white"
          },
          "hoverlabel": {
           "align": "left"
          },
          "hovermode": "closest",
          "mapbox": {
           "style": "light"
          },
          "paper_bgcolor": "white",
          "plot_bgcolor": "#E5ECF6",
          "polar": {
           "angularaxis": {
            "gridcolor": "white",
            "linecolor": "white",
            "ticks": ""
           },
           "bgcolor": "#E5ECF6",
           "radialaxis": {
            "gridcolor": "white",
            "linecolor": "white",
            "ticks": ""
           }
          },
          "scene": {
           "xaxis": {
            "backgroundcolor": "#E5ECF6",
            "gridcolor": "white",
            "gridwidth": 2,
            "linecolor": "white",
            "showbackground": true,
            "ticks": "",
            "zerolinecolor": "white"
           },
           "yaxis": {
            "backgroundcolor": "#E5ECF6",
            "gridcolor": "white",
            "gridwidth": 2,
            "linecolor": "white",
            "showbackground": true,
            "ticks": "",
            "zerolinecolor": "white"
           },
           "zaxis": {
            "backgroundcolor": "#E5ECF6",
            "gridcolor": "white",
            "gridwidth": 2,
            "linecolor": "white",
            "showbackground": true,
            "ticks": "",
            "zerolinecolor": "white"
           }
          },
          "shapedefaults": {
           "line": {
            "color": "#2a3f5f"
           }
          },
          "ternary": {
           "aaxis": {
            "gridcolor": "white",
            "linecolor": "white",
            "ticks": ""
           },
           "baxis": {
            "gridcolor": "white",
            "linecolor": "white",
            "ticks": ""
           },
           "bgcolor": "#E5ECF6",
           "caxis": {
            "gridcolor": "white",
            "linecolor": "white",
            "ticks": ""
           }
          },
          "title": {
           "x": 0.05
          },
          "xaxis": {
           "automargin": true,
           "gridcolor": "white",
           "linecolor": "white",
           "ticks": "",
           "zerolinecolor": "white",
           "zerolinewidth": 2
          },
          "yaxis": {
           "automargin": true,
           "gridcolor": "white",
           "linecolor": "white",
           "ticks": "",
           "zerolinecolor": "white",
           "zerolinewidth": 2
          }
         }
        },
        "title": {
         "text": "Restaurants in Pune"
        }
       }
      },
      "text/html": [
       "<div>\n",
       "        \n",
       "        \n",
       "            <div id=\"3c505538-afbe-4948-94ad-d0694ecea8dc\" class=\"plotly-graph-div\" style=\"height:525px; width:100%;\"></div>\n",
       "            <script type=\"text/javascript\">\n",
       "                require([\"plotly\"], function(Plotly) {\n",
       "                    window.PLOTLYENV=window.PLOTLYENV || {};\n",
       "                    \n",
       "                if (document.getElementById(\"3c505538-afbe-4948-94ad-d0694ecea8dc\")) {\n",
       "                    Plotly.newPlot(\n",
       "                        '3c505538-afbe-4948-94ad-d0694ecea8dc',\n",
       "                        [{\"lat\": [\"18.5290128326\", \"18.5391940000\", \"18.5187145874\", \"18.6014174482\", \"18.5250483010\", \"18.5687319093\", \"18.5193348395\", \"18.5928910588\", \"18.5528321011\", \"18.5712172626\", \"18.5620300000\", \"18.4572739000\", \"18.5908099220\", \"18.5936750138\", \"18.5366523475\", \"18.5142077577\", \"18.5209469756\", \"18.5908915918\", \"18.5320780000\", \"18.5937967220\"], \"lon\": [\"73.8437257335\", \"73.8974900000\", \"73.8362567872\", \"73.7639504671\", \"73.8414897770\", \"73.7670189142\", \"73.9308931679\", \"73.7600371242\", \"73.8031583279\", \"73.7749106437\", \"73.9167630000\", \"73.8521039000\", \"73.7531398237\", \"73.7353403494\", \"73.8965649158\", \"73.8384558633\", \"73.8410837576\", \"73.7530784681\", \"73.8705740000\", \"73.7570528314\"], \"marker\": {\"opacity\": 1, \"size\": 10, \"symbol\": \"marker\"}, \"mode\": \"markers\", \"text\": [\"FC Road Social, Shivaji Nagar<br> Rating: 4.5, <br>Continental, American, Asian, North Indian, South Indian, European, Chinese, Fast Food<br> Cost for two: 1500\", \"Huber & Holly, Koregaon Park<br> Rating: 4.7, <br>Ice Cream, Desserts, Fast Food<br> Cost for two: 800\", \"Hippie@Heart, Deccan Gymkhana<br> Rating: 4.5, <br>Continental, Italian, North Indian, Finger Food, European<br> Cost for two: 1300\", \"Tatva, Wakad<br> Rating: 4.4, <br>North Indian, Chinese, Continental<br> Cost for two: 850\", \"Culture - \\u092a\\u0941\\u0923\\u0947, FC Road<br> Rating: 4.3, <br>Bar Food, North Indian, Italian, Continental<br> Cost for two: 1300\", \"Darshan, Baner<br> Rating: 4.8, <br>Italian, Continental, Chinese, Mexican, Fast Food, Street Food, Desserts<br> Cost for two: 700\", \"AB's - Absolute Barbecues, Seasons Mall, Magarpatta <br> Rating: 4.6, <br>European, Mediterranean<br> Cost for two: 1400\", \"Flechazo, Wakad<br> Rating: 4.5, <br>Asian, Mediterranean, North Indian<br> Cost for two: 1400\", \"Anna Idli, Baner<br> Rating: 4.5, <br>South Indian, Fast Food<br> Cost for two: 400\", \"Flying Duck Co., Balewadi High Street, Baner<br> Rating: 4.6, <br>Asian, European<br> Cost for two: 1200\", \"Pop Tate's, Phoenix Market City, Viman Nagar<br> Rating: 4.8, <br>Continental, Italian, Chinese<br> Cost for two: 1400\", \"Hotel Neha, Katraj<br> Rating: 3.7, <br>North Indian, Chinese<br> Cost for two: 450\", \"AB's - Absolute Barbecues, White Square, Hinjawadi<br> Rating: 4.9, <br>Continental, North Indian, Chinese<br> Cost for two: 1400\", \"McDonald's, Hinjawadi<br> Rating: 3.8, <br>Burger, Fast Food<br> Cost for two: 500\", \"Kargo, Koregaon Park<br> Rating: 4.5, <br>Asian, Continental, North Indian<br> Cost for two: 1100\", \"Le Plaisir, Deccan Gymkhana<br> Rating: 4.7, <br>European, Italian, Fast Food, Salad, Continental, Beverages, Desserts<br> Cost for two: 1000\", \"Vaishali, FC Road<br> Rating: 4.4, <br>South Indian, Street Food, Fast Food<br> Cost for two: 500\", \"Spice Factory, White Square, Hinjawadi<br> Rating: 4.0, <br>North Indian, Italian, Chinese<br> Cost for two: 2000\", \"The Millers Homebar & Kitchen, The Mills, Bund Garden Road<br> Rating: 4.4, <br>Continental, North Indian, Thai<br> Cost for two: 1300\", \"The Barkhana, Wakad<br> Rating: 4.7, <br>North Indian, Continental, Chinese<br> Cost for two: 1700\"], \"type\": \"scattermapbox\"}],\n",
       "                        {\"autosize\": true, \"hovermode\": \"closest\", \"mapbox\": {\"accesstoken\": \"pk.eyJ1IjoiZHNhbnlhbCIsImEiOiJjazBrdzIxa3cwaGJlM25td3hsemYwajNzIn0.CVip4c3HeUOHf_M-mjAVkA\\n\", \"bearing\": 0, \"center\": {\"lat\": 18.55, \"lon\": 73.8}, \"pitch\": 0, \"style\": \"light\", \"zoom\": 10}, \"template\": {\"data\": {\"bar\": [{\"error_x\": {\"color\": \"#2a3f5f\"}, \"error_y\": {\"color\": \"#2a3f5f\"}, \"marker\": {\"line\": {\"color\": \"#E5ECF6\", \"width\": 0.5}}, \"type\": \"bar\"}], \"barpolar\": [{\"marker\": {\"line\": {\"color\": \"#E5ECF6\", \"width\": 0.5}}, \"type\": \"barpolar\"}], \"carpet\": [{\"aaxis\": {\"endlinecolor\": \"#2a3f5f\", \"gridcolor\": \"white\", \"linecolor\": \"white\", \"minorgridcolor\": \"white\", \"startlinecolor\": \"#2a3f5f\"}, \"baxis\": {\"endlinecolor\": \"#2a3f5f\", \"gridcolor\": \"white\", \"linecolor\": \"white\", \"minorgridcolor\": \"white\", \"startlinecolor\": \"#2a3f5f\"}, \"type\": \"carpet\"}], \"choropleth\": [{\"colorbar\": {\"outlinewidth\": 0, \"ticks\": \"\"}, \"type\": \"choropleth\"}], \"contour\": [{\"colorbar\": {\"outlinewidth\": 0, \"ticks\": \"\"}, \"colorscale\": [[0.0, \"#0d0887\"], [0.1111111111111111, \"#46039f\"], [0.2222222222222222, \"#7201a8\"], [0.3333333333333333, \"#9c179e\"], [0.4444444444444444, \"#bd3786\"], [0.5555555555555556, \"#d8576b\"], [0.6666666666666666, \"#ed7953\"], [0.7777777777777778, \"#fb9f3a\"], [0.8888888888888888, \"#fdca26\"], [1.0, \"#f0f921\"]], \"type\": \"contour\"}], \"contourcarpet\": [{\"colorbar\": {\"outlinewidth\": 0, \"ticks\": \"\"}, \"type\": \"contourcarpet\"}], \"heatmap\": [{\"colorbar\": {\"outlinewidth\": 0, \"ticks\": \"\"}, \"colorscale\": [[0.0, \"#0d0887\"], [0.1111111111111111, \"#46039f\"], [0.2222222222222222, \"#7201a8\"], [0.3333333333333333, \"#9c179e\"], [0.4444444444444444, \"#bd3786\"], [0.5555555555555556, \"#d8576b\"], [0.6666666666666666, \"#ed7953\"], [0.7777777777777778, \"#fb9f3a\"], [0.8888888888888888, \"#fdca26\"], [1.0, \"#f0f921\"]], \"type\": \"heatmap\"}], \"heatmapgl\": [{\"colorbar\": {\"outlinewidth\": 0, \"ticks\": \"\"}, \"colorscale\": [[0.0, \"#0d0887\"], [0.1111111111111111, \"#46039f\"], [0.2222222222222222, \"#7201a8\"], [0.3333333333333333, \"#9c179e\"], [0.4444444444444444, \"#bd3786\"], [0.5555555555555556, \"#d8576b\"], [0.6666666666666666, \"#ed7953\"], [0.7777777777777778, \"#fb9f3a\"], [0.8888888888888888, \"#fdca26\"], [1.0, \"#f0f921\"]], \"type\": \"heatmapgl\"}], \"histogram\": [{\"marker\": {\"colorbar\": {\"outlinewidth\": 0, \"ticks\": \"\"}}, \"type\": \"histogram\"}], \"histogram2d\": [{\"colorbar\": {\"outlinewidth\": 0, \"ticks\": \"\"}, \"colorscale\": [[0.0, \"#0d0887\"], [0.1111111111111111, \"#46039f\"], [0.2222222222222222, \"#7201a8\"], [0.3333333333333333, \"#9c179e\"], [0.4444444444444444, \"#bd3786\"], [0.5555555555555556, \"#d8576b\"], [0.6666666666666666, \"#ed7953\"], [0.7777777777777778, \"#fb9f3a\"], [0.8888888888888888, \"#fdca26\"], [1.0, \"#f0f921\"]], \"type\": \"histogram2d\"}], \"histogram2dcontour\": [{\"colorbar\": {\"outlinewidth\": 0, \"ticks\": \"\"}, \"colorscale\": [[0.0, \"#0d0887\"], [0.1111111111111111, \"#46039f\"], [0.2222222222222222, \"#7201a8\"], [0.3333333333333333, \"#9c179e\"], [0.4444444444444444, \"#bd3786\"], [0.5555555555555556, \"#d8576b\"], [0.6666666666666666, \"#ed7953\"], [0.7777777777777778, \"#fb9f3a\"], [0.8888888888888888, \"#fdca26\"], [1.0, \"#f0f921\"]], \"type\": \"histogram2dcontour\"}], \"mesh3d\": [{\"colorbar\": {\"outlinewidth\": 0, \"ticks\": \"\"}, \"type\": \"mesh3d\"}], \"parcoords\": [{\"line\": {\"colorbar\": {\"outlinewidth\": 0, \"ticks\": \"\"}}, \"type\": \"parcoords\"}], \"scatter\": [{\"marker\": {\"colorbar\": {\"outlinewidth\": 0, \"ticks\": \"\"}}, \"type\": \"scatter\"}], \"scatter3d\": [{\"line\": {\"colorbar\": {\"outlinewidth\": 0, \"ticks\": \"\"}}, \"marker\": {\"colorbar\": {\"outlinewidth\": 0, \"ticks\": \"\"}}, \"type\": \"scatter3d\"}], \"scattercarpet\": [{\"marker\": {\"colorbar\": {\"outlinewidth\": 0, \"ticks\": \"\"}}, \"type\": \"scattercarpet\"}], \"scattergeo\": [{\"marker\": {\"colorbar\": {\"outlinewidth\": 0, \"ticks\": \"\"}}, \"type\": \"scattergeo\"}], \"scattergl\": [{\"marker\": {\"colorbar\": {\"outlinewidth\": 0, \"ticks\": \"\"}}, \"type\": \"scattergl\"}], \"scattermapbox\": [{\"marker\": {\"colorbar\": {\"outlinewidth\": 0, \"ticks\": \"\"}}, \"type\": \"scattermapbox\"}], \"scatterpolar\": [{\"marker\": {\"colorbar\": {\"outlinewidth\": 0, \"ticks\": \"\"}}, \"type\": \"scatterpolar\"}], \"scatterpolargl\": [{\"marker\": {\"colorbar\": {\"outlinewidth\": 0, \"ticks\": \"\"}}, \"type\": \"scatterpolargl\"}], \"scatterternary\": [{\"marker\": {\"colorbar\": {\"outlinewidth\": 0, \"ticks\": \"\"}}, \"type\": \"scatterternary\"}], \"surface\": [{\"colorbar\": {\"outlinewidth\": 0, \"ticks\": \"\"}, \"colorscale\": [[0.0, \"#0d0887\"], [0.1111111111111111, \"#46039f\"], [0.2222222222222222, \"#7201a8\"], [0.3333333333333333, \"#9c179e\"], [0.4444444444444444, \"#bd3786\"], [0.5555555555555556, \"#d8576b\"], [0.6666666666666666, \"#ed7953\"], [0.7777777777777778, \"#fb9f3a\"], [0.8888888888888888, \"#fdca26\"], [1.0, \"#f0f921\"]], \"type\": \"surface\"}], \"table\": [{\"cells\": {\"fill\": {\"color\": \"#EBF0F8\"}, \"line\": {\"color\": \"white\"}}, \"header\": {\"fill\": {\"color\": \"#C8D4E3\"}, \"line\": {\"color\": \"white\"}}, \"type\": \"table\"}]}, \"layout\": {\"annotationdefaults\": {\"arrowcolor\": \"#2a3f5f\", \"arrowhead\": 0, \"arrowwidth\": 1}, \"colorscale\": {\"diverging\": [[0, \"#8e0152\"], [0.1, \"#c51b7d\"], [0.2, \"#de77ae\"], [0.3, \"#f1b6da\"], [0.4, \"#fde0ef\"], [0.5, \"#f7f7f7\"], [0.6, \"#e6f5d0\"], [0.7, \"#b8e186\"], [0.8, \"#7fbc41\"], [0.9, \"#4d9221\"], [1, \"#276419\"]], \"sequential\": [[0.0, \"#0d0887\"], [0.1111111111111111, \"#46039f\"], [0.2222222222222222, \"#7201a8\"], [0.3333333333333333, \"#9c179e\"], [0.4444444444444444, \"#bd3786\"], [0.5555555555555556, \"#d8576b\"], [0.6666666666666666, \"#ed7953\"], [0.7777777777777778, \"#fb9f3a\"], [0.8888888888888888, \"#fdca26\"], [1.0, \"#f0f921\"]], \"sequentialminus\": [[0.0, \"#0d0887\"], [0.1111111111111111, \"#46039f\"], [0.2222222222222222, \"#7201a8\"], [0.3333333333333333, \"#9c179e\"], [0.4444444444444444, \"#bd3786\"], [0.5555555555555556, \"#d8576b\"], [0.6666666666666666, \"#ed7953\"], [0.7777777777777778, \"#fb9f3a\"], [0.8888888888888888, \"#fdca26\"], [1.0, \"#f0f921\"]]}, \"colorway\": [\"#636efa\", \"#EF553B\", \"#00cc96\", \"#ab63fa\", \"#FFA15A\", \"#19d3f3\", \"#FF6692\", \"#B6E880\", \"#FF97FF\", \"#FECB52\"], \"font\": {\"color\": \"#2a3f5f\"}, \"geo\": {\"bgcolor\": \"white\", \"lakecolor\": \"white\", \"landcolor\": \"#E5ECF6\", \"showlakes\": true, \"showland\": true, \"subunitcolor\": \"white\"}, \"hoverlabel\": {\"align\": \"left\"}, \"hovermode\": \"closest\", \"mapbox\": {\"style\": \"light\"}, \"paper_bgcolor\": \"white\", \"plot_bgcolor\": \"#E5ECF6\", \"polar\": {\"angularaxis\": {\"gridcolor\": \"white\", \"linecolor\": \"white\", \"ticks\": \"\"}, \"bgcolor\": \"#E5ECF6\", \"radialaxis\": {\"gridcolor\": \"white\", \"linecolor\": \"white\", \"ticks\": \"\"}}, \"scene\": {\"xaxis\": {\"backgroundcolor\": \"#E5ECF6\", \"gridcolor\": \"white\", \"gridwidth\": 2, \"linecolor\": \"white\", \"showbackground\": true, \"ticks\": \"\", \"zerolinecolor\": \"white\"}, \"yaxis\": {\"backgroundcolor\": \"#E5ECF6\", \"gridcolor\": \"white\", \"gridwidth\": 2, \"linecolor\": \"white\", \"showbackground\": true, \"ticks\": \"\", \"zerolinecolor\": \"white\"}, \"zaxis\": {\"backgroundcolor\": \"#E5ECF6\", \"gridcolor\": \"white\", \"gridwidth\": 2, \"linecolor\": \"white\", \"showbackground\": true, \"ticks\": \"\", \"zerolinecolor\": \"white\"}}, \"shapedefaults\": {\"line\": {\"color\": \"#2a3f5f\"}}, \"ternary\": {\"aaxis\": {\"gridcolor\": \"white\", \"linecolor\": \"white\", \"ticks\": \"\"}, \"baxis\": {\"gridcolor\": \"white\", \"linecolor\": \"white\", \"ticks\": \"\"}, \"bgcolor\": \"#E5ECF6\", \"caxis\": {\"gridcolor\": \"white\", \"linecolor\": \"white\", \"ticks\": \"\"}}, \"title\": {\"x\": 0.05}, \"xaxis\": {\"automargin\": true, \"gridcolor\": \"white\", \"linecolor\": \"white\", \"ticks\": \"\", \"zerolinecolor\": \"white\", \"zerolinewidth\": 2}, \"yaxis\": {\"automargin\": true, \"gridcolor\": \"white\", \"linecolor\": \"white\", \"ticks\": \"\", \"zerolinecolor\": \"white\", \"zerolinewidth\": 2}}}, \"title\": {\"text\": \"Restaurants in Pune\"}},\n",
       "                        {\"responsive\": true}\n",
       "                    ).then(function(){\n",
       "                            \n",
       "var gd = document.getElementById('3c505538-afbe-4948-94ad-d0694ecea8dc');\n",
       "var x = new MutationObserver(function (mutations, observer) {{\n",
       "        var display = window.getComputedStyle(gd).display;\n",
       "        if (!display || display === 'none') {{\n",
       "            console.log([gd, 'removed!']);\n",
       "            Plotly.purge(gd);\n",
       "            observer.disconnect();\n",
       "        }}\n",
       "}});\n",
       "\n",
       "// Listen for the removal of the full notebook cells\n",
       "var notebookContainer = gd.closest('#notebook-container');\n",
       "if (notebookContainer) {{\n",
       "    x.observe(notebookContainer, {childList: true});\n",
       "}}\n",
       "\n",
       "// Listen for the clearing of the current output cell\n",
       "var outputEl = gd.closest('.output');\n",
       "if (outputEl) {{\n",
       "    x.observe(outputEl, {childList: true});\n",
       "}}\n",
       "\n",
       "                        })\n",
       "                };\n",
       "                });\n",
       "            </script>\n",
       "        </div>"
      ]
     },
     "metadata": {},
     "output_type": "display_data"
    }
   ],
   "source": [
    "scattermap_restaurants(restaurant_data, marker_size = 10, zoom = 10)"
   ]
  },
  {
   "cell_type": "code",
   "execution_count": null,
   "metadata": {},
   "outputs": [],
   "source": []
  }
 ],
 "metadata": {
  "kernelspec": {
   "display_name": "Python 3",
   "language": "python",
   "name": "python3"
  },
  "language_info": {
   "codemirror_mode": {
    "name": "ipython",
    "version": 3
   },
   "file_extension": ".py",
   "mimetype": "text/x-python",
   "name": "python",
   "nbconvert_exporter": "python",
   "pygments_lexer": "ipython3",
   "version": "3.6.9"
  }
 },
 "nbformat": 4,
 "nbformat_minor": 2
}
